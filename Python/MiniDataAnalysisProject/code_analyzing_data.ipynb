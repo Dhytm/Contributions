{
 "cells": [
  {
   "cell_type": "markdown",
   "metadata": {},
   "source": [
    "# Mini Projeto de Análise de Dados\n",
    "\n",
    "### O que temos?\n",
    "\n",
    "Temos os dados de 2019 de uma empresa de prestação de serviços. \n",
    "\n",
    "- CadastroFuncionarios\n",
    "- CadastroClientes\n",
    "- BaseServiçosPrestados\n",
    "\n",
    "\n",
    "### O que queremos saber/fazer?\n",
    "\n",
    "1. Valor Total da Folha Salarial -> Qual foi o gasto total com salários de funcionários pela empresa? <br>\n",
    "    \n",
    "    \n",
    "2. Qual foi o faturamento da empresa?<br>\n",
    "    \n",
    "    \n",
    "3. Qual o % de funcionários que já fechou algum contrato?<br>\n",
    "    Na base de serviços temos o funcionário que fechou cada serviço. Mas nem todos os funcionários que a empresa tem já fecharam algum serviço.<br>\n",
    "    . Na base de funcionários temos uma lista com todos os funcionários<br>\n",
    "    . Queremos calcular Qtde_Funcionarios_Fecharam_Serviço / Qtde_Funcionários_Totais<br>\n",
    "    . Para calcular a qtde de funcionários que fecharam algum serviço, use a base de serviços e conte quantos funcionários tem ali. Mas lembre-se, cada funcionário só pode ser contado uma única vez.<br><br>\n",
    "    Dica: se você aplicar o método .unique() em uma variável que é apenas 1 coluna de um dataframe, ele vai excluir todos os valores duplicados daquela coluna.<br>\n",
    "    Ex: unicos_colunaA = dataframe['colunaA'].unique() te dá como resposta uma lista com todos os itens da colunaA aparecendo uma única vez. Todos os valores repetidos da colunaA são excluidos da variável unicos_colunaA \n",
    "    \n",
    "    \n",
    "4. Calcule o total de contratos que cada área da empresa já fechou\n",
    "\n",
    "\n",
    "5. Calcule o total de funcionários por área\n",
    "\n",
    "\n",
    "6. Qual o ticket médio mensal (faturamento médio mensal) dos contratos?<br>\n",
    "\n",
    "Opções usuais de encoding:<br>\n",
    "encoding='latin1', encoding='ISO-8859-1', encoding='utf-8' ou então encoding='cp1252'\n",
    "\n",
    "Observação Importante: Se o seu código der um erro na hora de importar os arquivos:<br>\n",
    "- CadastroClientes.csv\n",
    "- CadastroFuncionarios.csv"
   ]
  },
  {
   "cell_type": "code",
   "execution_count": 8,
   "metadata": {},
   "outputs": [
    {
     "name": "stdout",
     "output_type": "stream",
     "text": [
      ">> Importado: Servicos Prestados\n",
      ">> Importado: Cadastro Clientes\n",
      ">> Importado: Cadastro Funcionarios\n"
     ]
    }
   ],
   "source": [
    "import pandas as pd\n",
    "\n",
    "ba_serv = pd.read_excel(r\"BaseServiçosPrestados.xlsx\")\n",
    "cd_clie = pd.read_csv(r\"CadastroClientes.csv\", sep=';')\n",
    "cd_funci = pd.read_csv(r\"CadastroFuncionarios.csv\", sep=';', decimal=',')\n",
    "\n",
    "print('>> Importado: Servicos Prestados\\n>> Importado: Cadastro Clientes\\n>> Importado: Cadastro Funcionarios')"
   ]
  },
  {
   "cell_type": "markdown",
   "metadata": {},
   "source": [
    "R1 -  Valor Total da Folha Salarial"
   ]
  },
  {
   "cell_type": "code",
   "execution_count": 9,
   "metadata": {},
   "outputs": [
    {
     "name": "stdout",
     "output_type": "stream",
     "text": [
      "O valor total da folha salarial eh: R$2,744,409.46\n"
     ]
    }
   ],
   "source": [
    "base_sum = cd_funci['Salario Base'].sum()\n",
    "impostos_sum = cd_funci['Impostos'].sum()\n",
    "beneficio_sum = cd_funci['Beneficios'].sum()\n",
    "vt_sum = cd_funci['VT'].sum()\n",
    "vr_sum = cd_funci['VR'].sum()\n",
    "\n",
    "folha = base_sum + impostos_sum + beneficio_sum + vt_sum + vr_sum\n",
    "print('O valor total da folha salarial eh: R${:,}'.format(folha))\n"
   ]
  },
  {
   "cell_type": "markdown",
   "metadata": {},
   "source": [
    "R2 - Qual foi o faturamento da empresa?"
   ]
  },
  {
   "cell_type": "code",
   "execution_count": 10,
   "metadata": {},
   "outputs": [
    {
     "name": "stdout",
     "output_type": "stream",
     "text": [
      "O faturamento da empresa foi de: R$5.631.030,00\n"
     ]
    }
   ],
   "source": [
    "dataframe = cd_clie['Valor Contrato Mensal'] * ba_serv['Tempo Total de Contrato (Meses)']\n",
    "print('O faturamento da empresa foi de: R${:_.2f}'.format(dataframe.sum()).replace('.', ',').replace('_', '.'))"
   ]
  },
  {
   "cell_type": "markdown",
   "metadata": {},
   "source": [
    "R3 - Qual o % de funcionários que já fechou algum contrato?"
   ]
  },
  {
   "cell_type": "code",
   "execution_count": 11,
   "metadata": {},
   "outputs": [
    {
     "name": "stdout",
     "output_type": "stream",
     "text": [
      "Quantidade de servicos prestados: 238\n",
      "Quantidade de funcionarios que prestaram servicos: 100\n",
      "86.96% funcionarios de um total de 115, fecharam algum contrato.\n"
     ]
    }
   ],
   "source": [
    "'''\n",
    "qtde_funcionario_fecharamcontrato = len(servicos_df['ID Funcionário'].unique())\n",
    "qtde_funcionario_total = len(funcionarios_df['ID Funcionário'])\n",
    "print('Percentual Funcionários Fecharam Contrato: {:.2%}'.format(qtde_funcionario_fecharamcontrato / qtde_funcionario_total))\n",
    "'''\n",
    "\n",
    "identi_func = ba_serv['ID_Funcionário']\n",
    "qtd_ordem = print('Quantidade de servicos prestados: {}'.format(len(identi_func)))\n",
    "\n",
    "# removendo duplicidades:\n",
    "funcionarios = sorted(set(identi_func))\n",
    "\n",
    "quant_prest_serv_func = print('Quantidade de funcionarios que prestaram servicos: {}'.format(len(funcionarios)))\n",
    "qtd_real_stf = (len(funcionarios))\n",
    "\n",
    "cadastro_func = cd_funci['Nome Completo']; cadastro_func = len(cadastro_func);\n",
    "\n",
    "count = int(qtd_real_stf) / int(cadastro_func)\n",
    "print('{:.2%} funcionarios de um total de {}, fecharam algum contrato.'.format(count, cadastro_func))"
   ]
  },
  {
   "cell_type": "markdown",
   "metadata": {},
   "source": [
    "R4 -  Calcule o total de contratos que cada área da empresa já fechou"
   ]
  },
  {
   "cell_type": "code",
   "execution_count": 12,
   "metadata": {},
   "outputs": [
    {
     "name": "stdout",
     "output_type": "stream",
     "text": [
      "O total de contratos concluídos de cada área da empresa foi de 238, e por área:\n",
      "[['Administrativo', 63], ['Comercial', 44], ['Financeiro', 42], ['Logística', 40], ['Operações', 48], ['Programação', 1]]\n"
     ]
    }
   ],
   "source": [
    "cd_funci['Area']\n",
    "areas = sorted(set(cd_funci['Area']))\n",
    "unic_area = areas\n",
    "\n",
    "dic = []\n",
    "for i, n in enumerate(unic_area):\n",
    "    if n != '':\n",
    "        dic.append([n, 0])\n",
    "\n",
    "contratos = []\n",
    "for unic in unic_area:\n",
    "\n",
    "    for i, area in enumerate(cd_funci['Area']):\n",
    "        operario = cd_funci.loc[i, 'ID Funcionário']\n",
    "\n",
    "        for i_i in ba_serv['ID_Funcionário']:\n",
    "            if i_i == operario:\n",
    "\n",
    "                for i, value in enumerate(dic):\n",
    "                    if area == value[0]:\n",
    "                        v = 1\n",
    "                        value[1] += v\n",
    "    break\n",
    "\n",
    "count = 0\n",
    "for i, value in enumerate(dic):\n",
    "    h = value[1]\n",
    "    count += h\n",
    "\n",
    "print(f'O total de contratos concluídos de cada área da empresa foi de {count}, e por área:\\n{dic}')"
   ]
  },
  {
   "cell_type": "markdown",
   "metadata": {},
   "source": [
    "R5 - Calcule o total de funcionários por área"
   ]
  },
  {
   "cell_type": "code",
   "execution_count": 13,
   "metadata": {},
   "outputs": [
    {
     "name": "stdout",
     "output_type": "stream",
     "text": [
      "Por área, o total de funcionários é de:\n",
      "[['Administrativo', 26], ['Comercial', 26], ['Financeiro', 18], ['Logística', 21], ['Operações', 23], ['Programação', 1]]\n"
     ]
    },
    {
     "data": {
      "text/plain": [
       "<AxesSubplot:ylabel='Area'>"
      ]
     },
     "execution_count": 13,
     "metadata": {},
     "output_type": "execute_result"
    },
    {
     "data": {
      "image/png": "[encoded data removed]",
      "text/plain": [
       "<Figure size 432x288 with 1 Axes>"
      ]
     },
     "metadata": {},
     "output_type": "display_data"
    }
   ],
   "source": [
    "''' -> Another possible solution ;-;\n",
    "areas = cd_funci['Area'].value_counts()\n",
    "'''\n",
    "\n",
    "cd_funci['Area']\n",
    "areas = sorted(set(cd_funci['Area']))\n",
    "unic_area = areas\n",
    "\n",
    "dic = []\n",
    "for i, a in enumerate(unic_area):\n",
    "    if a != '':\n",
    "        dic.append([a, 0])\n",
    "\n",
    "for i, area in enumerate(dic):\n",
    "    for funcio in cd_funci['Area']:\n",
    "        if area[0] == funcio:\n",
    "            area[1] += 1\n",
    "\n",
    "print(f'Por área, o total de funcionários é de:\\n{dic}')\n",
    "\n",
    "areas = cd_funci['Area'].value_counts()\n",
    "areas.plot(kind='pie')\n",
    "    "
   ]
  },
  {
   "cell_type": "markdown",
   "metadata": {},
   "source": [
    "R6 - Qual o ticket médio mensal (faturamento médio mensal) dos contratos?"
   ]
  },
  {
   "cell_type": "code",
   "execution_count": 14,
   "metadata": {},
   "outputs": [
    {
     "name": "stdout",
     "output_type": "stream",
     "text": [
      "O ticket medio mensal dos contratos foi de: R$2,502.56\n"
     ]
    }
   ],
   "source": [
    "print('O ticket medio mensal dos contratos foi de: R${:,.2f}'.format(cd_clie['Valor Contrato Mensal'].mean()))"
   ]
  }
 ],
 "metadata": {
  "kernelspec": {
   "display_name": "Python 3.10.5 64-bit",
   "language": "python",
   "name": "python3"
  },
  "language_info": {
   "codemirror_mode": {
    "name": "ipython",
    "version": 3
   },
   "file_extension": ".py",
   "mimetype": "text/x-python",
   "name": "python",
   "nbconvert_exporter": "python",
   "pygments_lexer": "ipython3",
   "version": "3.10.5"
  },
  "vscode": {
   "interpreter": {
    "hash": "1f067083b4123ad253bc896def30186d5cf8418304f1213c6ad7ebdc0c0edd99"
   }
  }
 },
 "nbformat": 4,
 "nbformat_minor": 4
}
